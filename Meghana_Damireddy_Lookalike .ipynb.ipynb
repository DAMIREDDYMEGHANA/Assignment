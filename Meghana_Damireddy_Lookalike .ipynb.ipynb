{
 "cells": [
  {
   "cell_type": "code",
   "execution_count": 3,
   "id": "d2a41a77-f582-455c-aac8-7e1d03f814a5",
   "metadata": {},
   "outputs": [],
   "source": [
    "import pandas as pd"
   ]
  },
  {
   "cell_type": "code",
   "execution_count": 5,
   "id": "23c8aace-3327-439c-8c02-7e24927a02dc",
   "metadata": {},
   "outputs": [],
   "source": [
    "customers=pd.read_csv(\"C:\\\\Users\\\\meghana\\\\Downloads\\\\Customers.csv\")\n",
    "transactions=pd.read_csv(\"C:\\\\Users\\\\meghana\\\\Downloads\\\\Transactions.csv\")"
   ]
  },
  {
   "cell_type": "code",
   "execution_count": 7,
   "id": "45a9b4e2-1efc-436a-b6ec-a10931b30a9d",
   "metadata": {},
   "outputs": [],
   "source": [
    "customer_transactions = transactions.groupby('CustomerID').agg({\n",
    "    'TotalValue': 'sum',\n",
    "    'TransactionID': 'count'\n",
    "}).reset_index().rename(columns={'TotalValue': 'TotalSpent', 'TransactionID': 'TransactionCount'})\n",
    "\n",
    "customer_profile = pd.merge(customers, customer_transactions, on='CustomerID', how='left').fillna(0)"
   ]
  },
  {
   "cell_type": "code",
   "execution_count": 9,
   "id": "a01a02da-4f3d-42d4-a607-f1a06091ddf2",
   "metadata": {},
   "outputs": [],
   "source": [
    "from sklearn.preprocessing import MinMaxScaler\n",
    "from sklearn.metrics.pairwise import cosine_similarity\n",
    "\n",
    "# Normalizing the data\n",
    "scaler = MinMaxScaler()\n",
    "features = ['TotalSpent', 'TransactionCount']\n",
    "customer_profile[features] = scaler.fit_transform(customer_profile[features])\n",
    "\n",
    "# Computing similarity matrix\n",
    "similarity_matrix = cosine_similarity(customer_profile[features])\n"
   ]
  },
  {
   "cell_type": "code",
   "execution_count": 17,
   "id": "dc2a9b2c-911d-4907-b9ab-2c2669103b47",
   "metadata": {},
   "outputs": [],
   "source": [
    "lookalike_df.to_csv('Meghana_Damireddy_Lookalike.csv', index=False)\n"
   ]
  },
  {
   "cell_type": "code",
   "execution_count": null,
   "id": "9f91990f-a0f6-4601-acc9-9d3a17d58e5f",
   "metadata": {},
   "outputs": [],
   "source": []
  }
 ],
 "metadata": {
  "kernelspec": {
   "display_name": "Python 3 (ipykernel)",
   "language": "python",
   "name": "python3"
  },
  "language_info": {
   "codemirror_mode": {
    "name": "ipython",
    "version": 3
   },
   "file_extension": ".py",
   "mimetype": "text/x-python",
   "name": "python",
   "nbconvert_exporter": "python",
   "pygments_lexer": "ipython3",
   "version": "3.12.4"
  }
 },
 "nbformat": 4,
 "nbformat_minor": 5
}
